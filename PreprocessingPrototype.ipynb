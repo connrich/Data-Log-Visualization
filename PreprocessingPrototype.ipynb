{
 "cells": [
  {
   "cell_type": "code",
   "execution_count": 204,
   "metadata": {},
   "outputs": [],
   "source": [
    "import pandas as pd\n",
    "import os\n",
    "import plotly.graph_objects as go"
   ]
  },
  {
   "cell_type": "code",
   "execution_count": 110,
   "metadata": {},
   "outputs": [],
   "source": [
    "df = pd.read_csv(\"C:\\\\Users\\\\Quantum\\\\Desktop\\\\Data Log Visualization\\\\System_Sensor_log0.csv\", header=None, names=[0, 1, 2, 3, 4], delimiter=';')"
   ]
  },
  {
   "cell_type": "code",
   "execution_count": 108,
   "metadata": {},
   "outputs": [
    {
     "name": "stdout",
     "output_type": "stream",
     "text": [
      "<class 'pandas.core.series.Series'>\n"
     ]
    }
   ],
   "source": [
    "# Iterate through columns in CSV\n",
    "for col in df.columns:\n",
    "    # Convert NaN to empty string\n",
    "    df[col] = df[col].fillna('')\n",
    "    # Skip 1st column\n",
    "    if col == 0:\n",
    "        continue\n",
    "    # Concatenate the column to the first column\n",
    "    df[0] = df[0].astype(str) + ';' + df[col].astype(str)\n",
    "\n",
    "# Discard extraneous columns\n",
    "df = df[0]\n",
    "# Strip extra ';' that get appended\n",
    "df = df.apply(lambda x: x.rstrip(';'))\n",
    "\n",
    "print(type(df))"
   ]
  },
  {
   "cell_type": "code",
   "execution_count": 77,
   "metadata": {},
   "outputs": [
    {
     "name": "stdout",
     "output_type": "stream",
     "text": [
      "                                                        0  \\\n",
      "0       VarName;\"TimeString\";\"VarValue\";\"Validity\";\"Ti...   \n",
      "1       TE511B_Value;\"11.07.2022 20:21:46\";4;59685;1;4...   \n",
      "2       TE523_Value;\"11.07.2022 20:21:46\";3;169961;1;4...   \n",
      "3       TE561_Value;\"11.07.2022 20:21:46\";280;9752;1;4...   \n",
      "4       TE563_Value;\"11.07.2022 20:21:46\";289;0049;1;4...   \n",
      "...                                                   ...   \n",
      "465017  CH301B_DB_Heater;\"12.07.2022 23:11:22\";0;1;447...   \n",
      "465018  CH501A_DB_Run;\"12.07.2022 23:11:22\";-1;1;44754...   \n",
      "465019  CH501A_DB_Pause;\"12.07.2022 23:11:22\";0;1;4475...   \n",
      "465020  CH501A_DB_Heater;\"12.07.2022 23:11:22\";0;1;447...   \n",
      "465021  CH501B_DB_Run;\"12.07.2022 23:11:22\";-1;1;44754...   \n",
      "\n",
      "                           1     2 3  4  5   \n",
      "0                                            \n",
      "1        59685;1;44753848450  4167           \n",
      "2       169961;1;44753848450  4282           \n",
      "3         9752;1;44753848450  4282           \n",
      "4         0049;1;44753848450  4282           \n",
      "...                      ...   ... .. .. ..  \n",
      "465017                   331                 \n",
      "465018                   331                 \n",
      "465019                   331                 \n",
      "465020                  3426                 \n",
      "465021                  3426                 \n",
      "\n",
      "[465022 rows x 6 columns]\n"
     ]
    }
   ],
   "source": [
    "print(df)"
   ]
  },
  {
   "cell_type": "code",
   "execution_count": 89,
   "metadata": {},
   "outputs": [],
   "source": [
    "df.to_csv(\"Processed_log.csv\")"
   ]
  },
  {
   "cell_type": "code",
   "execution_count": 184,
   "metadata": {},
   "outputs": [
    {
     "name": "stdout",
     "output_type": "stream",
     "text": [
      "                        VarName           TimeString  VarValue  Validity  \\\n",
      "0           Liquefier_DB_Alarm2  13.07.2022 12:47:55       0.0         1   \n",
      "1              Purifier_A_State  13.07.2022 12:47:55       9.0         1   \n",
      "2               Purifier_A_Trip  13.07.2022 12:47:55       0.0         1   \n",
      "3       Purifier_A_Trip History  13.07.2022 12:47:55       0.0         1   \n",
      "4              Purifier_A_Alarm  13.07.2022 12:47:55       0.0         1   \n",
      "...                         ...                  ...       ...       ...   \n",
      "454648         CH301B_DB_Heater  14.07.2022 15:07:29       0.0         1   \n",
      "454649            CH501A_DB_Run  14.07.2022 15:07:29      -1.0         1   \n",
      "454650          CH501A_DB_Pause  14.07.2022 15:07:29       0.0         1   \n",
      "454651         CH501A_DB_Heater  14.07.2022 15:07:29       0.0         1   \n",
      "454652            CH501B_DB_Run  14.07.2022 15:07:29      -1.0         1   \n",
      "\n",
      "             Time_ms  \n",
      "0       4.475553e+10  \n",
      "1       4.475553e+10  \n",
      "2       4.475553e+10  \n",
      "3       4.475553e+10  \n",
      "4       4.475553e+10  \n",
      "...              ...  \n",
      "454648  4.475663e+10  \n",
      "454649  4.475663e+10  \n",
      "454650  4.475663e+10  \n",
      "454651  4.475663e+10  \n",
      "454652  4.475663e+10  \n",
      "\n",
      "[454653 rows x 5 columns]\n"
     ]
    }
   ],
   "source": [
    "df2 = pd.read_csv(\"Logs/test.csv\")\n",
    "print(df2)"
   ]
  },
  {
   "cell_type": "code",
   "execution_count": null,
   "metadata": {},
   "outputs": [],
   "source": [
    "# Create pivot table of the data set\n",
    "table = pd.pivot_table(data=df2, index=['VarName', 'TimeString'])\n",
    "\n",
    "# Find all unique device tags and store them in a dictionary\n",
    "# Dictionary key = tag string\n",
    "# Dictionary value = dataframe with time and device value\n",
    "dic = {}\n",
    "for i in table.index.unique(level='VarName'):\n",
    "    dic[i] = table.loc[(i, )]\n",
    "    \n",
    "print(dic['AIT444_Value'].index.tolist())\n",
    "AIT = table.loc[('AIT444_Value', )]\n",
    "print(AIT)\n",
    "\n"
   ]
  },
  {
   "cell_type": "markdown",
   "metadata": {},
   "source": [
    "# X axis ordering bug testing"
   ]
  },
  {
   "cell_type": "code",
   "execution_count": 188,
   "metadata": {},
   "outputs": [
    {
     "name": "stdout",
     "output_type": "stream",
     "text": [
      "                                       Time_ms  Validity  VarValue\n",
      "VarName      TimeString                                           \n",
      "$RT_OFF$     13.07.2022 20:13:57  4.475584e+10         2   0.00000\n",
      "             13.07.2022 20:27:07  4.475585e+10         2   0.00000\n",
      "             13.07.2022 20:55:03  4.475587e+10         2   0.00000\n",
      "AIT444_Value 13.07.2022 12:47:55  4.475553e+10         1  99.99559\n",
      "             13.07.2022 12:48:25  4.475553e+10         1  99.99533\n",
      "...                                        ...       ...       ...\n",
      "WT216D_Value 14.07.2022 15:05:09  4.475663e+10         1  34.82892\n",
      "             14.07.2022 15:05:39  4.475663e+10         1  34.84520\n",
      "             14.07.2022 15:06:09  4.475663e+10         1  34.85243\n",
      "             14.07.2022 15:06:39  4.475663e+10         1  34.87413\n",
      "             14.07.2022 15:07:09  4.475663e+10         1  34.88317\n",
      "\n",
      "[454637 rows x 3 columns]\n"
     ]
    }
   ],
   "source": [
    "df = pd.read_csv('data.csv', delimiter=';', low_memory=False,decimal = ',')\n",
    "\n",
    "# Pivot the dataframe so it is easier to select data by tag name\n",
    "table = pd.pivot_table(data=df, index=['VarName', 'TimeString'])\n",
    "print(table)"
   ]
  },
  {
   "cell_type": "code",
   "execution_count": null,
   "metadata": {},
   "outputs": [],
   "source": [
    "tags = ['PT270_Value', 'PT402_Value', 'HRS_DB_Alarm2']\n",
    "# table.loc[(i, )]\n",
    "\n",
    "dic = {}\n",
    "for tag in tags:\n",
    "    dic[tag] = table.loc[(tag, )].index.to_series()\n",
    "    dic[tag].sort_index(inplace=True)\n",
    "\n",
    "print(dic[tags[2]])\n",
    "print(dic[tags[0]])\n",
    "\n",
    "\n",
    "# out1 = table.loc[(tags[0], )].index.to_series().compare(table.loc[(tags[1], )].index.to_series())\n",
    "# print(out1)"
   ]
  },
  {
   "cell_type": "code",
   "execution_count": 207,
   "metadata": {},
   "outputs": [
    {
     "name": "stdout",
     "output_type": "stream",
     "text": [
      "                           Validity  VarValue\n",
      "VarName      Time_ms                         \n",
      "$RT_OFF$     4.475584e+10         2   0.00000\n",
      "             4.475585e+10         2   0.00000\n",
      "             4.475587e+10         2   0.00000\n",
      "AIT444_Value 4.475553e+10         1  99.99559\n",
      "             4.475553e+10         1  99.99533\n",
      "...                             ...       ...\n",
      "WT216D_Value 4.475663e+10         1  34.82892\n",
      "             4.475663e+10         1  34.84520\n",
      "             4.475663e+10         1  34.85243\n",
      "             4.475663e+10         1  34.87413\n",
      "             4.475663e+10         1  34.88317\n",
      "\n",
      "[454653 rows x 2 columns]\n"
     ]
    },
    {
     "data": {
      "text/plain": [
       "0"
      ]
     },
     "execution_count": 207,
     "metadata": {},
     "output_type": "execute_result"
    }
   ],
   "source": [
    "df = pd.read_csv('data.csv', delimiter=';', low_memory=False,decimal = ',')\n",
    "\n",
    "# Pivot the dataframe so it is easier to select data by tag name\n",
    "table = pd.pivot_table(data=df, index=['VarName', 'TimeString'])\n",
    "print(table)\n",
    "\n",
    "# Find all unique device tags and store the data in a dictionary\n",
    "# Dictionary key = tag string\n",
    "# Dictionary value = dataframe with time and device value\n",
    "dic = {}\n",
    "for i in table.index.unique(level='VarName'):\n",
    "    dic[i] = table.loc[(i, )]\n",
    "\n",
    "# Generate a figure object to store the plots\n",
    "fig = go.Figure()\n",
    "fig.update_layout(\n",
    "    title='Datalog',\n",
    "    legend_title_text='Logged Tags',\n",
    "    xaxis=dict(rangeslider=dict(visible=True), type='date')\n",
    ")\n",
    "fig.update_xaxes(title_text='Time')\n",
    "fig.update_yaxes(title_text='Value')\n",
    "\n",
    "# Iterate through the tags and add them to the graph\n",
    "# All lines are hidden to start and are shown by clicking in the legend\n",
    "for key in dic.keys():\n",
    "    fig.add_trace(\n",
    "        go.Scatter(\n",
    "            xperiod0=dic[key].index, \n",
    "            y=dic[key]['VarValue'],\n",
    "            name=key,\n",
    "            visible='legendonly'\n",
    "        )\n",
    "    )\n",
    "\n",
    "# Convert figure to interactive html to run in browser\n",
    "fig.write_html('plotly_test.html')\n",
    "\n",
    "# Automatically opens the graph once script has run\n",
    "os.system(\"start plotly_test.html\")"
   ]
  }
 ],
 "metadata": {
  "kernelspec": {
   "display_name": "Python 3.7.0 64-bit",
   "language": "python",
   "name": "python3"
  },
  "language_info": {
   "codemirror_mode": {
    "name": "ipython",
    "version": 3
   },
   "file_extension": ".py",
   "mimetype": "text/x-python",
   "name": "python",
   "nbconvert_exporter": "python",
   "pygments_lexer": "ipython3",
   "version": "3.7.0"
  },
  "orig_nbformat": 4,
  "vscode": {
   "interpreter": {
    "hash": "964e9eac9e20632a3c910ebdf4afa91ec407f6830fc6831e589fbd0389d624bd"
   }
  }
 },
 "nbformat": 4,
 "nbformat_minor": 2
}
